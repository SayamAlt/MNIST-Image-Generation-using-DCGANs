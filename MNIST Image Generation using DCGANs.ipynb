{
 "cells": [
  {
   "cell_type": "code",
   "execution_count": 1,
   "id": "2a15810a",
   "metadata": {
    "execution": {
     "iopub.execute_input": "2024-10-22T05:41:34.596662Z",
     "iopub.status.busy": "2024-10-22T05:41:34.595903Z",
     "iopub.status.idle": "2024-10-22T05:41:47.473462Z",
     "shell.execute_reply": "2024-10-22T05:41:47.472462Z"
    },
    "id": "19e3522e-05f7-43a1-8911-a1413aad9c5b",
    "papermill": {
     "duration": 12.890912,
     "end_time": "2024-10-22T05:41:47.475817",
     "exception": false,
     "start_time": "2024-10-22T05:41:34.584905",
     "status": "completed"
    },
    "tags": []
   },
   "outputs": [],
   "source": [
    "import numpy as np\n",
    "\n",
    "import pandas as pd\n",
    "\n",
    "import matplotlib.pyplot as plt\n",
    "\n",
    "from tensorflow.keras.datasets import mnist\n",
    "\n",
    "import tensorflow as tf\n",
    "\n",
    "import warnings\n",
    "\n",
    "warnings.filterwarnings('ignore')\n",
    "\n",
    "from tensorflow.keras.models import Sequential\n",
    "\n",
    "from tensorflow.keras.layers import Dense, Reshape, Flatten, Dropout, LeakyReLU, BatchNormalization, Conv2D, Conv2DTranspose"
   ]
  },
  {
   "cell_type": "code",
   "execution_count": 2,
   "id": "fc252acd",
   "metadata": {
    "execution": {
     "iopub.execute_input": "2024-10-22T05:41:47.494627Z",
     "iopub.status.busy": "2024-10-22T05:41:47.494095Z",
     "iopub.status.idle": "2024-10-22T05:41:47.863634Z",
     "shell.execute_reply": "2024-10-22T05:41:47.862628Z"
    },
    "id": "bae27828-3a95-44c9-86ab-e76fb18a09b3",
    "papermill": {
     "duration": 0.381818,
     "end_time": "2024-10-22T05:41:47.865962",
     "exception": false,
     "start_time": "2024-10-22T05:41:47.484144",
     "status": "completed"
    },
    "tags": []
   },
   "outputs": [
    {
     "name": "stdout",
     "output_type": "stream",
     "text": [
      "Downloading data from https://storage.googleapis.com/tensorflow/tf-keras-datasets/mnist.npz\n",
      "\u001b[1m11490434/11490434\u001b[0m \u001b[32m━━━━━━━━━━━━━━━━━━━━\u001b[0m\u001b[37m\u001b[0m \u001b[1m0s\u001b[0m 0us/step\n"
     ]
    }
   ],
   "source": [
    "(X_train, y_train), (X_test, y_test) = mnist.load_data()"
   ]
  },
  {
   "cell_type": "code",
   "execution_count": 3,
   "id": "dd5f6038",
   "metadata": {
    "execution": {
     "iopub.execute_input": "2024-10-22T05:41:47.884073Z",
     "iopub.status.busy": "2024-10-22T05:41:47.883716Z",
     "iopub.status.idle": "2024-10-22T05:41:47.890724Z",
     "shell.execute_reply": "2024-10-22T05:41:47.889925Z"
    },
    "id": "9cde1407-fde5-4308-a331-e5424369f79f",
    "outputId": "e2cd64d0-8af8-40c9-cb90-f09901cd4a34",
    "papermill": {
     "duration": 0.018171,
     "end_time": "2024-10-22T05:41:47.892660",
     "exception": false,
     "start_time": "2024-10-22T05:41:47.874489",
     "status": "completed"
    },
    "tags": []
   },
   "outputs": [
    {
     "data": {
      "text/plain": [
       "((60000, 28, 28), (10000, 28, 28), (60000,), (10000,))"
      ]
     },
     "execution_count": 3,
     "metadata": {},
     "output_type": "execute_result"
    }
   ],
   "source": [
    "X_train.shape, X_test.shape, y_train.shape, y_test.shape"
   ]
  },
  {
   "cell_type": "code",
   "execution_count": 4,
   "id": "92255a7e",
   "metadata": {
    "execution": {
     "iopub.execute_input": "2024-10-22T05:41:47.910421Z",
     "iopub.status.busy": "2024-10-22T05:41:47.909861Z",
     "iopub.status.idle": "2024-10-22T05:41:48.182086Z",
     "shell.execute_reply": "2024-10-22T05:41:48.181180Z"
    },
    "id": "344988e2-53d6-4ad7-a348-c756f80dc558",
    "outputId": "a604d3c0-01e2-4974-cfae-597a92526807",
    "papermill": {
     "duration": 0.283384,
     "end_time": "2024-10-22T05:41:48.184236",
     "exception": false,
     "start_time": "2024-10-22T05:41:47.900852",
     "status": "completed"
    },
    "tags": []
   },
   "outputs": [
    {
     "data": {
      "image/png": "[encoded data removed]",
      "text/plain": [
       "<Figure size 640x480 with 1 Axes>"
      ]
     },
     "metadata": {},
     "output_type": "display_data"
    }
   ],
   "source": [
    "plt.imshow(X_train[0]);"
   ]
  },
  {
   "cell_type": "code",
   "execution_count": 5,
   "id": "c9637d92",
   "metadata": {
    "execution": {
     "iopub.execute_input": "2024-10-22T05:41:48.202870Z",
     "iopub.status.busy": "2024-10-22T05:41:48.202570Z",
     "iopub.status.idle": "2024-10-22T05:41:48.466933Z",
     "shell.execute_reply": "2024-10-22T05:41:48.466142Z"
    },
    "id": "2d9c074f-f68d-4030-a9de-77e5970805ea",
    "papermill": {
     "duration": 0.276244,
     "end_time": "2024-10-22T05:41:48.469166",
     "exception": false,
     "start_time": "2024-10-22T05:41:48.192922",
     "status": "completed"
    },
    "tags": []
   },
   "outputs": [],
   "source": [
    "X_train = X_train / 255. # (0,1) -> (0,2) -> (-1,1)\n",
    "\n",
    "X_train = X_train.reshape(-1,28,28,1) * 2 - 1 # Generator will use tanh activation function in the last layer so we need to reshape X_train to fall between (-1,1)"
   ]
  },
  {
   "cell_type": "code",
   "execution_count": 6,
   "id": "19e476d9",
   "metadata": {
    "execution": {
     "iopub.execute_input": "2024-10-22T05:41:48.488032Z",
     "iopub.status.busy": "2024-10-22T05:41:48.487689Z",
     "iopub.status.idle": "2024-10-22T05:41:48.552181Z",
     "shell.execute_reply": "2024-10-22T05:41:48.551282Z"
    },
    "id": "c1ea7dcf-9726-4e33-8816-8534833473a9",
    "outputId": "bc126545-9cac-406d-f8db-6e2292db124a",
    "papermill": {
     "duration": 0.076131,
     "end_time": "2024-10-22T05:41:48.554205",
     "exception": false,
     "start_time": "2024-10-22T05:41:48.478074",
     "status": "completed"
    },
    "tags": []
   },
   "outputs": [
    {
     "data": {
      "text/plain": [
       "(-1.0, 1.0)"
      ]
     },
     "execution_count": 6,
     "metadata": {},
     "output_type": "execute_result"
    }
   ],
   "source": [
    "X_train.min(), X_train.max() # Scaling for tanh"
   ]
  },
  {
   "cell_type": "code",
   "execution_count": 7,
   "id": "e69f058a",
   "metadata": {
    "execution": {
     "iopub.execute_input": "2024-10-22T05:41:48.572575Z",
     "iopub.status.busy": "2024-10-22T05:41:48.572259Z",
     "iopub.status.idle": "2024-10-22T05:41:48.590737Z",
     "shell.execute_reply": "2024-10-22T05:41:48.589864Z"
    },
    "id": "fa02801f-e730-4b79-9583-fe8a47ad10ff",
    "outputId": "b0296935-cff3-42cf-919c-23ab1131650c",
    "papermill": {
     "duration": 0.030027,
     "end_time": "2024-10-22T05:41:48.592809",
     "exception": false,
     "start_time": "2024-10-22T05:41:48.562782",
     "status": "completed"
    },
    "tags": []
   },
   "outputs": [
    {
     "data": {
      "text/plain": [
       "(5851, 28, 28, 1)"
      ]
     },
     "execution_count": 7,
     "metadata": {},
     "output_type": "execute_result"
    }
   ],
   "source": [
    "only_eights = X_train[y_train==8]\n",
    "\n",
    "only_eights.shape"
   ]
  },
  {
   "cell_type": "code",
   "execution_count": 8,
   "id": "361e7189",
   "metadata": {
    "execution": {
     "iopub.execute_input": "2024-10-22T05:41:48.611938Z",
     "iopub.status.busy": "2024-10-22T05:41:48.611607Z",
     "iopub.status.idle": "2024-10-22T05:41:48.792252Z",
     "shell.execute_reply": "2024-10-22T05:41:48.791335Z"
    },
    "id": "b8fa06f1-54f9-4c57-b3b3-a34b2eff2ed6",
    "outputId": "334ffd61-1000-4778-ff03-b28d9eadccbc",
    "papermill": {
     "duration": 0.192473,
     "end_time": "2024-10-22T05:41:48.794187",
     "exception": false,
     "start_time": "2024-10-22T05:41:48.601714",
     "status": "completed"
    },
    "tags": []
   },
   "outputs": [
    {
     "data": {
      "image/png": "[encoded data removed]",
      "text/plain": [
       "<Figure size 640x480 with 1 Axes>"
      ]
     },
     "metadata": {},
     "output_type": "display_data"
    }
   ],
   "source": [
    "plt.imshow(only_eights[10]);"
   ]
  },
  {
   "cell_type": "code",
   "execution_count": 9,
   "id": "256ee36b",
   "metadata": {
    "execution": {
     "iopub.execute_input": "2024-10-22T05:41:48.813312Z",
     "iopub.status.busy": "2024-10-22T05:41:48.812982Z",
     "iopub.status.idle": "2024-10-22T05:41:48.817421Z",
     "shell.execute_reply": "2024-10-22T05:41:48.816683Z"
    },
    "id": "527b3ab8-e74b-48c4-85ca-2638c9ac2d45",
    "papermill": {
     "duration": 0.016022,
     "end_time": "2024-10-22T05:41:48.819253",
     "exception": false,
     "start_time": "2024-10-22T05:41:48.803231",
     "status": "completed"
    },
    "tags": []
   },
   "outputs": [],
   "source": [
    "np.random.seed(101)\n",
    "\n",
    "tf.random.set_seed(101)\n",
    "\n",
    "codings_size = 100"
   ]
  },
  {
   "cell_type": "code",
   "execution_count": 10,
   "id": "fce5ac52",
   "metadata": {
    "execution": {
     "iopub.execute_input": "2024-10-22T05:41:48.838301Z",
     "iopub.status.busy": "2024-10-22T05:41:48.838017Z",
     "iopub.status.idle": "2024-10-22T05:41:48.843346Z",
     "shell.execute_reply": "2024-10-22T05:41:48.842539Z"
    },
    "id": "44a48d13-06f8-48c3-94dc-22f01275500a",
    "outputId": "36902d44-3f0f-47ab-a7c1-bcc661eb5794",
    "papermill": {
     "duration": 0.017066,
     "end_time": "2024-10-22T05:41:48.845267",
     "exception": false,
     "start_time": "2024-10-22T05:41:48.828201",
     "status": "completed"
    },
    "tags": []
   },
   "outputs": [
    {
     "data": {
      "text/plain": [
       "98.0"
      ]
     },
     "execution_count": 10,
     "metadata": {},
     "output_type": "execute_result"
    }
   ],
   "source": [
    "784/8"
   ]
  },
  {
   "cell_type": "code",
   "execution_count": 11,
   "id": "5bc16923",
   "metadata": {
    "execution": {
     "iopub.execute_input": "2024-10-22T05:41:48.864400Z",
     "iopub.status.busy": "2024-10-22T05:41:48.864117Z",
     "iopub.status.idle": "2024-10-22T05:41:49.817321Z",
     "shell.execute_reply": "2024-10-22T05:41:49.816468Z"
    },
    "id": "710219af-ab76-480b-b48f-bd1e944fd189",
    "outputId": "216a64c0-57f3-49bd-e9ab-13a464fd4e9b",
    "papermill": {
     "duration": 0.965088,
     "end_time": "2024-10-22T05:41:49.819329",
     "exception": false,
     "start_time": "2024-10-22T05:41:48.854241",
     "status": "completed"
    },
    "tags": []
   },
   "outputs": [
    {
     "data": {
      "text/html": [
       "<pre style=\"white-space:pre;overflow-x:auto;line-height:normal;font-family:Menlo,'DejaVu Sans Mono',consolas,'Courier New',monospace\"><span style=\"font-weight: bold\">Model: \"sequential\"</span>\n",
       "</pre>\n"
      ],
      "text/plain": [
       "\u001b[1mModel: \"sequential\"\u001b[0m\n"
      ]
     },
     "metadata": {},
     "output_type": "display_data"
    },
    {
     "data": {
      "text/html": [
       "<pre style=\"white-space:pre;overflow-x:auto;line-height:normal;font-family:Menlo,'DejaVu Sans Mono',consolas,'Courier New',monospace\">┏━━━━━━━━━━━━━━━━━━━━━━━━━━━━━━━━━┳━━━━━━━━━━━━━━━━━━━━━━━━┳━━━━━━━━━━━━━━━┓\n",
       "┃<span style=\"font-weight: bold\"> Layer (type)                    </span>┃<span style=\"font-weight: bold\"> Output Shape           </span>┃<span style=\"font-weight: bold\">       Param # </span>┃\n",
       "┡━━━━━━━━━━━━━━━━━━━━━━━━━━━━━━━━━╇━━━━━━━━━━━━━━━━━━━━━━━━╇━━━━━━━━━━━━━━━┩\n",
       "│ dense (<span style=\"color: #0087ff; text-decoration-color: #0087ff\">Dense</span>)                   │ (<span style=\"color: #00d7ff; text-decoration-color: #00d7ff\">None</span>, <span style=\"color: #00af00; text-decoration-color: #00af00\">6272</span>)           │       <span style=\"color: #00af00; text-decoration-color: #00af00\">633,472</span> │\n",
       "├─────────────────────────────────┼────────────────────────┼───────────────┤\n",
       "│ reshape (<span style=\"color: #0087ff; text-decoration-color: #0087ff\">Reshape</span>)               │ (<span style=\"color: #00d7ff; text-decoration-color: #00d7ff\">None</span>, <span style=\"color: #00af00; text-decoration-color: #00af00\">7</span>, <span style=\"color: #00af00; text-decoration-color: #00af00\">7</span>, <span style=\"color: #00af00; text-decoration-color: #00af00\">128</span>)      │             <span style=\"color: #00af00; text-decoration-color: #00af00\">0</span> │\n",
       "├─────────────────────────────────┼────────────────────────┼───────────────┤\n",
       "│ batch_normalization             │ (<span style=\"color: #00d7ff; text-decoration-color: #00d7ff\">None</span>, <span style=\"color: #00af00; text-decoration-color: #00af00\">7</span>, <span style=\"color: #00af00; text-decoration-color: #00af00\">7</span>, <span style=\"color: #00af00; text-decoration-color: #00af00\">128</span>)      │           <span style=\"color: #00af00; text-decoration-color: #00af00\">512</span> │\n",
       "│ (<span style=\"color: #0087ff; text-decoration-color: #0087ff\">BatchNormalization</span>)            │                        │               │\n",
       "├─────────────────────────────────┼────────────────────────┼───────────────┤\n",
       "│ conv2d_transpose                │ (<span style=\"color: #00d7ff; text-decoration-color: #00d7ff\">None</span>, <span style=\"color: #00af00; text-decoration-color: #00af00\">14</span>, <span style=\"color: #00af00; text-decoration-color: #00af00\">14</span>, <span style=\"color: #00af00; text-decoration-color: #00af00\">64</span>)     │       <span style=\"color: #00af00; text-decoration-color: #00af00\">204,864</span> │\n",
       "│ (<span style=\"color: #0087ff; text-decoration-color: #0087ff\">Conv2DTranspose</span>)               │                        │               │\n",
       "├─────────────────────────────────┼────────────────────────┼───────────────┤\n",
       "│ batch_normalization_1           │ (<span style=\"color: #00d7ff; text-decoration-color: #00d7ff\">None</span>, <span style=\"color: #00af00; text-decoration-color: #00af00\">14</span>, <span style=\"color: #00af00; text-decoration-color: #00af00\">14</span>, <span style=\"color: #00af00; text-decoration-color: #00af00\">64</span>)     │           <span style=\"color: #00af00; text-decoration-color: #00af00\">256</span> │\n",
       "│ (<span style=\"color: #0087ff; text-decoration-color: #0087ff\">BatchNormalization</span>)            │                        │               │\n",
       "├─────────────────────────────────┼────────────────────────┼───────────────┤\n",
       "│ conv2d_transpose_1              │ (<span style=\"color: #00d7ff; text-decoration-color: #00d7ff\">None</span>, <span style=\"color: #00af00; text-decoration-color: #00af00\">28</span>, <span style=\"color: #00af00; text-decoration-color: #00af00\">28</span>, <span style=\"color: #00af00; text-decoration-color: #00af00\">1</span>)      │         <span style=\"color: #00af00; text-decoration-color: #00af00\">1,601</span> │\n",
       "│ (<span style=\"color: #0087ff; text-decoration-color: #0087ff\">Conv2DTranspose</span>)               │                        │               │\n",
       "└─────────────────────────────────┴────────────────────────┴───────────────┘\n",
       "</pre>\n"
      ],
      "text/plain": [
       "┏━━━━━━━━━━━━━━━━━━━━━━━━━━━━━━━━━┳━━━━━━━━━━━━━━━━━━━━━━━━┳━━━━━━━━━━━━━━━┓\n",
       "┃\u001b[1m \u001b[0m\u001b[1mLayer (type)                   \u001b[0m\u001b[1m \u001b[0m┃\u001b[1m \u001b[0m\u001b[1mOutput Shape          \u001b[0m\u001b[1m \u001b[0m┃\u001b[1m \u001b[0m\u001b[1m      Param #\u001b[0m\u001b[1m \u001b[0m┃\n",
       "┡━━━━━━━━━━━━━━━━━━━━━━━━━━━━━━━━━╇━━━━━━━━━━━━━━━━━━━━━━━━╇━━━━━━━━━━━━━━━┩\n",
       "│ dense (\u001b[38;5;33mDense\u001b[0m)                   │ (\u001b[38;5;45mNone\u001b[0m, \u001b[38;5;34m6272\u001b[0m)           │       \u001b[38;5;34m633,472\u001b[0m │\n",
       "├─────────────────────────────────┼────────────────────────┼───────────────┤\n",
       "│ reshape (\u001b[38;5;33mReshape\u001b[0m)               │ (\u001b[38;5;45mNone\u001b[0m, \u001b[38;5;34m7\u001b[0m, \u001b[38;5;34m7\u001b[0m, \u001b[38;5;34m128\u001b[0m)      │             \u001b[38;5;34m0\u001b[0m │\n",
       "├─────────────────────────────────┼────────────────────────┼───────────────┤\n",
       "│ batch_normalization             │ (\u001b[38;5;45mNone\u001b[0m, \u001b[38;5;34m7\u001b[0m, \u001b[38;5;34m7\u001b[0m, \u001b[38;5;34m128\u001b[0m)      │           \u001b[38;5;34m512\u001b[0m │\n",
       "│ (\u001b[38;5;33mBatchNormalization\u001b[0m)            │                        │               │\n",
       "├─────────────────────────────────┼────────────────────────┼───────────────┤\n",
       "│ conv2d_transpose                │ (\u001b[38;5;45mNone\u001b[0m, \u001b[38;5;34m14\u001b[0m, \u001b[38;5;34m14\u001b[0m, \u001b[38;5;34m64\u001b[0m)     │       \u001b[38;5;34m204,864\u001b[0m │\n",
       "│ (\u001b[38;5;33mConv2DTranspose\u001b[0m)               │                        │               │\n",
       "├─────────────────────────────────┼────────────────────────┼───────────────┤\n",
       "│ batch_normalization_1           │ (\u001b[38;5;45mNone\u001b[0m, \u001b[38;5;34m14\u001b[0m, \u001b[38;5;34m14\u001b[0m, \u001b[38;5;34m64\u001b[0m)     │           \u001b[38;5;34m256\u001b[0m │\n",
       "│ (\u001b[38;5;33mBatchNormalization\u001b[0m)            │                        │               │\n",
       "├─────────────────────────────────┼────────────────────────┼───────────────┤\n",
       "│ conv2d_transpose_1              │ (\u001b[38;5;45mNone\u001b[0m, \u001b[38;5;34m28\u001b[0m, \u001b[38;5;34m28\u001b[0m, \u001b[38;5;34m1\u001b[0m)      │         \u001b[38;5;34m1,601\u001b[0m │\n",
       "│ (\u001b[38;5;33mConv2DTranspose\u001b[0m)               │                        │               │\n",
       "└─────────────────────────────────┴────────────────────────┴───────────────┘\n"
      ]
     },
     "metadata": {},
     "output_type": "display_data"
    },
    {
     "data": {
      "text/html": [
       "<pre style=\"white-space:pre;overflow-x:auto;line-height:normal;font-family:Menlo,'DejaVu Sans Mono',consolas,'Courier New',monospace\"><span style=\"font-weight: bold\"> Total params: </span><span style=\"color: #00af00; text-decoration-color: #00af00\">840,705</span> (3.21 MB)\n",
       "</pre>\n"
      ],
      "text/plain": [
       "\u001b[1m Total params: \u001b[0m\u001b[38;5;34m840,705\u001b[0m (3.21 MB)\n"
      ]
     },
     "metadata": {},
     "output_type": "display_data"
    },
    {
     "data": {
      "text/html": [
       "<pre style=\"white-space:pre;overflow-x:auto;line-height:normal;font-family:Menlo,'DejaVu Sans Mono',consolas,'Courier New',monospace\"><span style=\"font-weight: bold\"> Trainable params: </span><span style=\"color: #00af00; text-decoration-color: #00af00\">840,321</span> (3.21 MB)\n",
       "</pre>\n"
      ],
      "text/plain": [
       "\u001b[1m Trainable params: \u001b[0m\u001b[38;5;34m840,321\u001b[0m (3.21 MB)\n"
      ]
     },
     "metadata": {},
     "output_type": "display_data"
    },
    {
     "data": {
      "text/html": [
       "<pre style=\"white-space:pre;overflow-x:auto;line-height:normal;font-family:Menlo,'DejaVu Sans Mono',consolas,'Courier New',monospace\"><span style=\"font-weight: bold\"> Non-trainable params: </span><span style=\"color: #00af00; text-decoration-color: #00af00\">384</span> (1.50 KB)\n",
       "</pre>\n"
      ],
      "text/plain": [
       "\u001b[1m Non-trainable params: \u001b[0m\u001b[38;5;34m384\u001b[0m (1.50 KB)\n"
      ]
     },
     "metadata": {},
     "output_type": "display_data"
    }
   ],
   "source": [
    "generator = Sequential()\n",
    "\n",
    "generator.add(Dense(units=7*7*128,input_shape=[codings_size]))\n",
    "\n",
    "generator.add(Reshape(target_shape=[7,7,128]))\n",
    "\n",
    "generator.add(BatchNormalization())\n",
    "\n",
    "generator.add(Conv2DTranspose(filters=64,kernel_size=5,strides=2,padding='same',activation='relu'))\n",
    "\n",
    "generator.add(BatchNormalization())\n",
    "\n",
    "generator.add(Conv2DTranspose(filters=1,kernel_size=5,strides=2,padding='same',activation='tanh'))\n",
    "\n",
    "generator.summary()"
   ]
  },
  {
   "cell_type": "code",
   "execution_count": 12,
   "id": "06c3c11e",
   "metadata": {
    "execution": {
     "iopub.execute_input": "2024-10-22T05:41:49.840432Z",
     "iopub.status.busy": "2024-10-22T05:41:49.840123Z",
     "iopub.status.idle": "2024-10-22T05:41:49.909375Z",
     "shell.execute_reply": "2024-10-22T05:41:49.908549Z"
    },
    "id": "7bcf23b1-bf22-4272-9567-e01f9387e15b",
    "outputId": "bd4411eb-0c31-481e-c118-b17ee150ca7b",
    "papermill": {
     "duration": 0.081932,
     "end_time": "2024-10-22T05:41:49.911306",
     "exception": false,
     "start_time": "2024-10-22T05:41:49.829374",
     "status": "completed"
    },
    "tags": []
   },
   "outputs": [
    {
     "data": {
      "text/html": [
       "<pre style=\"white-space:pre;overflow-x:auto;line-height:normal;font-family:Menlo,'DejaVu Sans Mono',consolas,'Courier New',monospace\"><span style=\"font-weight: bold\">Model: \"sequential_1\"</span>\n",
       "</pre>\n"
      ],
      "text/plain": [
       "\u001b[1mModel: \"sequential_1\"\u001b[0m\n"
      ]
     },
     "metadata": {},
     "output_type": "display_data"
    },
    {
     "data": {
      "text/html": [
       "<pre style=\"white-space:pre;overflow-x:auto;line-height:normal;font-family:Menlo,'DejaVu Sans Mono',consolas,'Courier New',monospace\">┏━━━━━━━━━━━━━━━━━━━━━━━━━━━━━━━━━┳━━━━━━━━━━━━━━━━━━━━━━━━┳━━━━━━━━━━━━━━━┓\n",
       "┃<span style=\"font-weight: bold\"> Layer (type)                    </span>┃<span style=\"font-weight: bold\"> Output Shape           </span>┃<span style=\"font-weight: bold\">       Param # </span>┃\n",
       "┡━━━━━━━━━━━━━━━━━━━━━━━━━━━━━━━━━╇━━━━━━━━━━━━━━━━━━━━━━━━╇━━━━━━━━━━━━━━━┩\n",
       "│ conv2d (<span style=\"color: #0087ff; text-decoration-color: #0087ff\">Conv2D</span>)                 │ (<span style=\"color: #00d7ff; text-decoration-color: #00d7ff\">None</span>, <span style=\"color: #00af00; text-decoration-color: #00af00\">14</span>, <span style=\"color: #00af00; text-decoration-color: #00af00\">14</span>, <span style=\"color: #00af00; text-decoration-color: #00af00\">64</span>)     │         <span style=\"color: #00af00; text-decoration-color: #00af00\">1,664</span> │\n",
       "├─────────────────────────────────┼────────────────────────┼───────────────┤\n",
       "│ dropout (<span style=\"color: #0087ff; text-decoration-color: #0087ff\">Dropout</span>)               │ (<span style=\"color: #00d7ff; text-decoration-color: #00d7ff\">None</span>, <span style=\"color: #00af00; text-decoration-color: #00af00\">14</span>, <span style=\"color: #00af00; text-decoration-color: #00af00\">14</span>, <span style=\"color: #00af00; text-decoration-color: #00af00\">64</span>)     │             <span style=\"color: #00af00; text-decoration-color: #00af00\">0</span> │\n",
       "├─────────────────────────────────┼────────────────────────┼───────────────┤\n",
       "│ conv2d_1 (<span style=\"color: #0087ff; text-decoration-color: #0087ff\">Conv2D</span>)               │ (<span style=\"color: #00d7ff; text-decoration-color: #00d7ff\">None</span>, <span style=\"color: #00af00; text-decoration-color: #00af00\">7</span>, <span style=\"color: #00af00; text-decoration-color: #00af00\">7</span>, <span style=\"color: #00af00; text-decoration-color: #00af00\">128</span>)      │       <span style=\"color: #00af00; text-decoration-color: #00af00\">204,928</span> │\n",
       "├─────────────────────────────────┼────────────────────────┼───────────────┤\n",
       "│ dropout_1 (<span style=\"color: #0087ff; text-decoration-color: #0087ff\">Dropout</span>)             │ (<span style=\"color: #00d7ff; text-decoration-color: #00d7ff\">None</span>, <span style=\"color: #00af00; text-decoration-color: #00af00\">7</span>, <span style=\"color: #00af00; text-decoration-color: #00af00\">7</span>, <span style=\"color: #00af00; text-decoration-color: #00af00\">128</span>)      │             <span style=\"color: #00af00; text-decoration-color: #00af00\">0</span> │\n",
       "├─────────────────────────────────┼────────────────────────┼───────────────┤\n",
       "│ flatten (<span style=\"color: #0087ff; text-decoration-color: #0087ff\">Flatten</span>)               │ (<span style=\"color: #00d7ff; text-decoration-color: #00d7ff\">None</span>, <span style=\"color: #00af00; text-decoration-color: #00af00\">6272</span>)           │             <span style=\"color: #00af00; text-decoration-color: #00af00\">0</span> │\n",
       "├─────────────────────────────────┼────────────────────────┼───────────────┤\n",
       "│ dense_1 (<span style=\"color: #0087ff; text-decoration-color: #0087ff\">Dense</span>)                 │ (<span style=\"color: #00d7ff; text-decoration-color: #00d7ff\">None</span>, <span style=\"color: #00af00; text-decoration-color: #00af00\">1</span>)              │         <span style=\"color: #00af00; text-decoration-color: #00af00\">6,273</span> │\n",
       "└─────────────────────────────────┴────────────────────────┴───────────────┘\n",
       "</pre>\n"
      ],
      "text/plain": [
       "┏━━━━━━━━━━━━━━━━━━━━━━━━━━━━━━━━━┳━━━━━━━━━━━━━━━━━━━━━━━━┳━━━━━━━━━━━━━━━┓\n",
       "┃\u001b[1m \u001b[0m\u001b[1mLayer (type)                   \u001b[0m\u001b[1m \u001b[0m┃\u001b[1m \u001b[0m\u001b[1mOutput Shape          \u001b[0m\u001b[1m \u001b[0m┃\u001b[1m \u001b[0m\u001b[1m      Param #\u001b[0m\u001b[1m \u001b[0m┃\n",
       "┡━━━━━━━━━━━━━━━━━━━━━━━━━━━━━━━━━╇━━━━━━━━━━━━━━━━━━━━━━━━╇━━━━━━━━━━━━━━━┩\n",
       "│ conv2d (\u001b[38;5;33mConv2D\u001b[0m)                 │ (\u001b[38;5;45mNone\u001b[0m, \u001b[38;5;34m14\u001b[0m, \u001b[38;5;34m14\u001b[0m, \u001b[38;5;34m64\u001b[0m)     │         \u001b[38;5;34m1,664\u001b[0m │\n",
       "├─────────────────────────────────┼────────────────────────┼───────────────┤\n",
       "│ dropout (\u001b[38;5;33mDropout\u001b[0m)               │ (\u001b[38;5;45mNone\u001b[0m, \u001b[38;5;34m14\u001b[0m, \u001b[38;5;34m14\u001b[0m, \u001b[38;5;34m64\u001b[0m)     │             \u001b[38;5;34m0\u001b[0m │\n",
       "├─────────────────────────────────┼────────────────────────┼───────────────┤\n",
       "│ conv2d_1 (\u001b[38;5;33mConv2D\u001b[0m)               │ (\u001b[38;5;45mNone\u001b[0m, \u001b[38;5;34m7\u001b[0m, \u001b[38;5;34m7\u001b[0m, \u001b[38;5;34m128\u001b[0m)      │       \u001b[38;5;34m204,928\u001b[0m │\n",
       "├─────────────────────────────────┼────────────────────────┼───────────────┤\n",
       "│ dropout_1 (\u001b[38;5;33mDropout\u001b[0m)             │ (\u001b[38;5;45mNone\u001b[0m, \u001b[38;5;34m7\u001b[0m, \u001b[38;5;34m7\u001b[0m, \u001b[38;5;34m128\u001b[0m)      │             \u001b[38;5;34m0\u001b[0m │\n",
       "├─────────────────────────────────┼────────────────────────┼───────────────┤\n",
       "│ flatten (\u001b[38;5;33mFlatten\u001b[0m)               │ (\u001b[38;5;45mNone\u001b[0m, \u001b[38;5;34m6272\u001b[0m)           │             \u001b[38;5;34m0\u001b[0m │\n",
       "├─────────────────────────────────┼────────────────────────┼───────────────┤\n",
       "│ dense_1 (\u001b[38;5;33mDense\u001b[0m)                 │ (\u001b[38;5;45mNone\u001b[0m, \u001b[38;5;34m1\u001b[0m)              │         \u001b[38;5;34m6,273\u001b[0m │\n",
       "└─────────────────────────────────┴────────────────────────┴───────────────┘\n"
      ]
     },
     "metadata": {},
     "output_type": "display_data"
    },
    {
     "data": {
      "text/html": [
       "<pre style=\"white-space:pre;overflow-x:auto;line-height:normal;font-family:Menlo,'DejaVu Sans Mono',consolas,'Courier New',monospace\"><span style=\"font-weight: bold\"> Total params: </span><span style=\"color: #00af00; text-decoration-color: #00af00\">212,865</span> (831.50 KB)\n",
       "</pre>\n"
      ],
      "text/plain": [
       "\u001b[1m Total params: \u001b[0m\u001b[38;5;34m212,865\u001b[0m (831.50 KB)\n"
      ]
     },
     "metadata": {},
     "output_type": "display_data"
    },
    {
     "data": {
      "text/html": [
       "<pre style=\"white-space:pre;overflow-x:auto;line-height:normal;font-family:Menlo,'DejaVu Sans Mono',consolas,'Courier New',monospace\"><span style=\"font-weight: bold\"> Trainable params: </span><span style=\"color: #00af00; text-decoration-color: #00af00\">212,865</span> (831.50 KB)\n",
       "</pre>\n"
      ],
      "text/plain": [
       "\u001b[1m Trainable params: \u001b[0m\u001b[38;5;34m212,865\u001b[0m (831.50 KB)\n"
      ]
     },
     "metadata": {},
     "output_type": "display_data"
    },
    {
     "data": {
      "text/html": [
       "<pre style=\"white-space:pre;overflow-x:auto;line-height:normal;font-family:Menlo,'DejaVu Sans Mono',consolas,'Courier New',monospace\"><span style=\"font-weight: bold\"> Non-trainable params: </span><span style=\"color: #00af00; text-decoration-color: #00af00\">0</span> (0.00 B)\n",
       "</pre>\n"
      ],
      "text/plain": [
       "\u001b[1m Non-trainable params: \u001b[0m\u001b[38;5;34m0\u001b[0m (0.00 B)\n"
      ]
     },
     "metadata": {},
     "output_type": "display_data"
    }
   ],
   "source": [
    "discriminator = Sequential()\n",
    "\n",
    "discriminator.add(Conv2D(filters=64,kernel_size=5,strides=2,padding='same',activation=LeakyReLU(negative_slope=0.3),input_shape=[28,28,1]))\n",
    "\n",
    "discriminator.add(Dropout(0.4))\n",
    "\n",
    "discriminator.add(Conv2D(filters=128,kernel_size=5,strides=2,padding='same',activation=LeakyReLU(negative_slope=0.3)))\n",
    "\n",
    "discriminator.add(Dropout(0.5))\n",
    "\n",
    "discriminator.add(Flatten())\n",
    "\n",
    "discriminator.add(Dense(units=1,activation='sigmoid'))\n",
    "\n",
    "discriminator.summary()"
   ]
  },
  {
   "cell_type": "code",
   "execution_count": 13,
   "id": "7364f124",
   "metadata": {
    "execution": {
     "iopub.execute_input": "2024-10-22T05:41:49.934052Z",
     "iopub.status.busy": "2024-10-22T05:41:49.933742Z",
     "iopub.status.idle": "2024-10-22T05:41:49.949391Z",
     "shell.execute_reply": "2024-10-22T05:41:49.948568Z"
    },
    "id": "f29c085b-b4d9-43ea-8e62-0ee397cffe98",
    "outputId": "98d5d50e-d9f4-4535-9d40-e537cd60b2bc",
    "papermill": {
     "duration": 0.02903,
     "end_time": "2024-10-22T05:41:49.951256",
     "exception": false,
     "start_time": "2024-10-22T05:41:49.922226",
     "status": "completed"
    },
    "tags": []
   },
   "outputs": [
    {
     "data": {
      "text/html": [
       "<pre style=\"white-space:pre;overflow-x:auto;line-height:normal;font-family:Menlo,'DejaVu Sans Mono',consolas,'Courier New',monospace\"><span style=\"font-weight: bold\">Model: \"sequential_2\"</span>\n",
       "</pre>\n"
      ],
      "text/plain": [
       "\u001b[1mModel: \"sequential_2\"\u001b[0m\n"
      ]
     },
     "metadata": {},
     "output_type": "display_data"
    },
    {
     "data": {
      "text/html": [
       "<pre style=\"white-space:pre;overflow-x:auto;line-height:normal;font-family:Menlo,'DejaVu Sans Mono',consolas,'Courier New',monospace\">┏━━━━━━━━━━━━━━━━━━━━━━━━━━━━━━━━━┳━━━━━━━━━━━━━━━━━━━━━━━━┳━━━━━━━━━━━━━━━┓\n",
       "┃<span style=\"font-weight: bold\"> Layer (type)                    </span>┃<span style=\"font-weight: bold\"> Output Shape           </span>┃<span style=\"font-weight: bold\">       Param # </span>┃\n",
       "┡━━━━━━━━━━━━━━━━━━━━━━━━━━━━━━━━━╇━━━━━━━━━━━━━━━━━━━━━━━━╇━━━━━━━━━━━━━━━┩\n",
       "│ sequential (<span style=\"color: #0087ff; text-decoration-color: #0087ff\">Sequential</span>)         │ ?                      │       <span style=\"color: #00af00; text-decoration-color: #00af00\">840,705</span> │\n",
       "├─────────────────────────────────┼────────────────────────┼───────────────┤\n",
       "│ sequential_1 (<span style=\"color: #0087ff; text-decoration-color: #0087ff\">Sequential</span>)       │ ?                      │       <span style=\"color: #00af00; text-decoration-color: #00af00\">212,865</span> │\n",
       "└─────────────────────────────────┴────────────────────────┴───────────────┘\n",
       "</pre>\n"
      ],
      "text/plain": [
       "┏━━━━━━━━━━━━━━━━━━━━━━━━━━━━━━━━━┳━━━━━━━━━━━━━━━━━━━━━━━━┳━━━━━━━━━━━━━━━┓\n",
       "┃\u001b[1m \u001b[0m\u001b[1mLayer (type)                   \u001b[0m\u001b[1m \u001b[0m┃\u001b[1m \u001b[0m\u001b[1mOutput Shape          \u001b[0m\u001b[1m \u001b[0m┃\u001b[1m \u001b[0m\u001b[1m      Param #\u001b[0m\u001b[1m \u001b[0m┃\n",
       "┡━━━━━━━━━━━━━━━━━━━━━━━━━━━━━━━━━╇━━━━━━━━━━━━━━━━━━━━━━━━╇━━━━━━━━━━━━━━━┩\n",
       "│ sequential (\u001b[38;5;33mSequential\u001b[0m)         │ ?                      │       \u001b[38;5;34m840,705\u001b[0m │\n",
       "├─────────────────────────────────┼────────────────────────┼───────────────┤\n",
       "│ sequential_1 (\u001b[38;5;33mSequential\u001b[0m)       │ ?                      │       \u001b[38;5;34m212,865\u001b[0m │\n",
       "└─────────────────────────────────┴────────────────────────┴───────────────┘\n"
      ]
     },
     "metadata": {},
     "output_type": "display_data"
    },
    {
     "data": {
      "text/html": [
       "<pre style=\"white-space:pre;overflow-x:auto;line-height:normal;font-family:Menlo,'DejaVu Sans Mono',consolas,'Courier New',monospace\"><span style=\"font-weight: bold\"> Total params: </span><span style=\"color: #00af00; text-decoration-color: #00af00\">1,053,570</span> (4.02 MB)\n",
       "</pre>\n"
      ],
      "text/plain": [
       "\u001b[1m Total params: \u001b[0m\u001b[38;5;34m1,053,570\u001b[0m (4.02 MB)\n"
      ]
     },
     "metadata": {},
     "output_type": "display_data"
    },
    {
     "data": {
      "text/html": [
       "<pre style=\"white-space:pre;overflow-x:auto;line-height:normal;font-family:Menlo,'DejaVu Sans Mono',consolas,'Courier New',monospace\"><span style=\"font-weight: bold\"> Trainable params: </span><span style=\"color: #00af00; text-decoration-color: #00af00\">1,053,186</span> (4.02 MB)\n",
       "</pre>\n"
      ],
      "text/plain": [
       "\u001b[1m Trainable params: \u001b[0m\u001b[38;5;34m1,053,186\u001b[0m (4.02 MB)\n"
      ]
     },
     "metadata": {},
     "output_type": "display_data"
    },
    {
     "data": {
      "text/html": [
       "<pre style=\"white-space:pre;overflow-x:auto;line-height:normal;font-family:Menlo,'DejaVu Sans Mono',consolas,'Courier New',monospace\"><span style=\"font-weight: bold\"> Non-trainable params: </span><span style=\"color: #00af00; text-decoration-color: #00af00\">384</span> (1.50 KB)\n",
       "</pre>\n"
      ],
      "text/plain": [
       "\u001b[1m Non-trainable params: \u001b[0m\u001b[38;5;34m384\u001b[0m (1.50 KB)\n"
      ]
     },
     "metadata": {},
     "output_type": "display_data"
    }
   ],
   "source": [
    "GAN = Sequential([generator,discriminator])\n",
    "\n",
    "GAN.summary()"
   ]
  },
  {
   "cell_type": "code",
   "execution_count": 14,
   "id": "01d76c6c",
   "metadata": {
    "execution": {
     "iopub.execute_input": "2024-10-22T05:41:49.975361Z",
     "iopub.status.busy": "2024-10-22T05:41:49.974892Z",
     "iopub.status.idle": "2024-10-22T05:41:49.986686Z",
     "shell.execute_reply": "2024-10-22T05:41:49.986030Z"
    },
    "id": "f8fb28fc-d5a3-4762-80be-5cb49cc194cf",
    "papermill": {
     "duration": 0.025829,
     "end_time": "2024-10-22T05:41:49.988506",
     "exception": false,
     "start_time": "2024-10-22T05:41:49.962677",
     "status": "completed"
    },
    "tags": []
   },
   "outputs": [],
   "source": [
    "discriminator.compile(loss='binary_crossentropy',optimizer='adam')\n",
    "\n",
    "discriminator.trainable = False # Discriminator should not be trained in the second phase of training"
   ]
  },
  {
   "cell_type": "code",
   "execution_count": 15,
   "id": "629c3dea",
   "metadata": {
    "execution": {
     "iopub.execute_input": "2024-10-22T05:41:50.012090Z",
     "iopub.status.busy": "2024-10-22T05:41:50.011806Z",
     "iopub.status.idle": "2024-10-22T05:41:50.018904Z",
     "shell.execute_reply": "2024-10-22T05:41:50.018249Z"
    },
    "id": "a9d71b7d-c2e0-459a-b498-957e8c9353ad",
    "papermill": {
     "duration": 0.020954,
     "end_time": "2024-10-22T05:41:50.020741",
     "exception": false,
     "start_time": "2024-10-22T05:41:49.999787",
     "status": "completed"
    },
    "tags": []
   },
   "outputs": [],
   "source": [
    "GAN.compile(loss='binary_crossentropy',optimizer='adam')"
   ]
  },
  {
   "cell_type": "code",
   "execution_count": 16,
   "id": "b95ad61d",
   "metadata": {
    "execution": {
     "iopub.execute_input": "2024-10-22T05:41:50.044423Z",
     "iopub.status.busy": "2024-10-22T05:41:50.044166Z",
     "iopub.status.idle": "2024-10-22T05:41:50.049432Z",
     "shell.execute_reply": "2024-10-22T05:41:50.048589Z"
    },
    "id": "eb868ab0-fc56-49b5-8085-546105f5f5a8",
    "outputId": "d48b6abf-96b4-45b9-960e-197d74840b7d",
    "papermill": {
     "duration": 0.01923,
     "end_time": "2024-10-22T05:41:50.051307",
     "exception": false,
     "start_time": "2024-10-22T05:41:50.032077",
     "status": "completed"
    },
    "tags": []
   },
   "outputs": [
    {
     "data": {
      "text/plain": [
       "(5851, 28, 28, 1)"
      ]
     },
     "execution_count": 16,
     "metadata": {},
     "output_type": "execute_result"
    }
   ],
   "source": [
    "only_eights.shape"
   ]
  },
  {
   "cell_type": "code",
   "execution_count": 17,
   "id": "0ed60caf",
   "metadata": {
    "execution": {
     "iopub.execute_input": "2024-10-22T05:41:50.075550Z",
     "iopub.status.busy": "2024-10-22T05:41:50.074759Z",
     "iopub.status.idle": "2024-10-22T05:41:50.080189Z",
     "shell.execute_reply": "2024-10-22T05:41:50.079446Z"
    },
    "id": "0ccec40f-a384-4be4-a106-35ab575311df",
    "outputId": "4fe77bd5-f1d0-409d-c2fc-85fb6b549a09",
    "papermill": {
     "duration": 0.019344,
     "end_time": "2024-10-22T05:41:50.082058",
     "exception": false,
     "start_time": "2024-10-22T05:41:50.062714",
     "status": "completed"
    },
    "tags": []
   },
   "outputs": [
    {
     "data": {
      "text/plain": [
       "182.84375"
      ]
     },
     "execution_count": 17,
     "metadata": {},
     "output_type": "execute_result"
    }
   ],
   "source": [
    "5851/32"
   ]
  },
  {
   "cell_type": "code",
   "execution_count": 18,
   "id": "62543677",
   "metadata": {
    "execution": {
     "iopub.execute_input": "2024-10-22T05:41:50.106318Z",
     "iopub.status.busy": "2024-10-22T05:41:50.105776Z",
     "iopub.status.idle": "2024-10-22T05:41:51.692254Z",
     "shell.execute_reply": "2024-10-22T05:41:51.691439Z"
    },
    "id": "f1e3ad31-e03c-45c5-aa91-139d11e36d89",
    "papermill": {
     "duration": 1.601067,
     "end_time": "2024-10-22T05:41:51.694633",
     "exception": false,
     "start_time": "2024-10-22T05:41:50.093566",
     "status": "completed"
    },
    "tags": []
   },
   "outputs": [],
   "source": [
    "batch_size = 32\n",
    "\n",
    "dataset = tf.data.Dataset.from_tensor_slices(only_eights).shuffle(buffer_size=1000)"
   ]
  },
  {
   "cell_type": "code",
   "execution_count": 19,
   "id": "78eabe9d",
   "metadata": {
    "execution": {
     "iopub.execute_input": "2024-10-22T05:41:51.720273Z",
     "iopub.status.busy": "2024-10-22T05:41:51.719388Z",
     "iopub.status.idle": "2024-10-22T05:41:51.725322Z",
     "shell.execute_reply": "2024-10-22T05:41:51.724487Z"
    },
    "id": "bf92ca45-9ace-4128-a2a1-d573ff62ec65",
    "outputId": "66150cd4-aa80-4633-f31e-5831874aa1ac",
    "papermill": {
     "duration": 0.020469,
     "end_time": "2024-10-22T05:41:51.727198",
     "exception": false,
     "start_time": "2024-10-22T05:41:51.706729",
     "status": "completed"
    },
    "tags": []
   },
   "outputs": [
    {
     "data": {
      "text/plain": [
       "tensorflow.python.data.ops.shuffle_op._ShuffleDataset"
      ]
     },
     "execution_count": 19,
     "metadata": {},
     "output_type": "execute_result"
    }
   ],
   "source": [
    "type(dataset)"
   ]
  },
  {
   "cell_type": "code",
   "execution_count": 20,
   "id": "e2d36373",
   "metadata": {
    "execution": {
     "iopub.execute_input": "2024-10-22T05:41:51.751772Z",
     "iopub.status.busy": "2024-10-22T05:41:51.751486Z",
     "iopub.status.idle": "2024-10-22T05:41:51.763209Z",
     "shell.execute_reply": "2024-10-22T05:41:51.762359Z"
    },
    "id": "66688d64-9576-49bd-a312-a2eda6fe28a8",
    "outputId": "15cf4231-dddb-496e-f735-5ae38ec5c2b8",
    "papermill": {
     "duration": 0.026134,
     "end_time": "2024-10-22T05:41:51.765077",
     "exception": false,
     "start_time": "2024-10-22T05:41:51.738943",
     "status": "completed"
    },
    "tags": []
   },
   "outputs": [
    {
     "data": {
      "text/plain": [
       "<_PrefetchDataset element_spec=TensorSpec(shape=(32, 28, 28, 1), dtype=tf.float64, name=None)>"
      ]
     },
     "execution_count": 20,
     "metadata": {},
     "output_type": "execute_result"
    }
   ],
   "source": [
    "dataset = dataset.batch(batch_size=batch_size,drop_remainder=True).prefetch(1)\n",
    "\n",
    "dataset"
   ]
  },
  {
   "cell_type": "code",
   "execution_count": 21,
   "id": "d6ee80e5",
   "metadata": {
    "execution": {
     "iopub.execute_input": "2024-10-22T05:41:51.790008Z",
     "iopub.status.busy": "2024-10-22T05:41:51.789458Z",
     "iopub.status.idle": "2024-10-22T05:41:51.795274Z",
     "shell.execute_reply": "2024-10-22T05:41:51.794426Z"
    },
    "id": "d7e684f6-1033-455f-b5cf-79e5e3886722",
    "outputId": "2b497c89-a31d-4212-e3dd-d7c4750e7f02",
    "papermill": {
     "duration": 0.0202,
     "end_time": "2024-10-22T05:41:51.797039",
     "exception": false,
     "start_time": "2024-10-22T05:41:51.776839",
     "status": "completed"
    },
    "tags": []
   },
   "outputs": [
    {
     "data": {
      "text/plain": [
       "[<Dense name=dense, built=True>,\n",
       " <Reshape name=reshape, built=True>,\n",
       " <BatchNormalization name=batch_normalization, built=True>,\n",
       " <Conv2DTranspose name=conv2d_transpose, built=True>,\n",
       " <BatchNormalization name=batch_normalization_1, built=True>,\n",
       " <Conv2DTranspose name=conv2d_transpose_1, built=True>]"
      ]
     },
     "execution_count": 21,
     "metadata": {},
     "output_type": "execute_result"
    }
   ],
   "source": [
    "epochs = 16\n",
    "\n",
    "\n",
    "\n",
    "GAN.layers[0].layers # Generator model"
   ]
  },
  {
   "cell_type": "code",
   "execution_count": 22,
   "id": "463ca04a",
   "metadata": {
    "execution": {
     "iopub.execute_input": "2024-10-22T05:41:51.822071Z",
     "iopub.status.busy": "2024-10-22T05:41:51.821579Z",
     "iopub.status.idle": "2024-10-22T05:41:51.827452Z",
     "shell.execute_reply": "2024-10-22T05:41:51.826618Z"
    },
    "id": "a35c08dd-1855-46a2-a234-f732395f81a2",
    "outputId": "79fa7619-36a5-46b9-c042-8c28caaebe94",
    "papermill": {
     "duration": 0.020308,
     "end_time": "2024-10-22T05:41:51.829233",
     "exception": false,
     "start_time": "2024-10-22T05:41:51.808925",
     "status": "completed"
    },
    "tags": []
   },
   "outputs": [
    {
     "data": {
      "text/plain": [
       "[<Conv2D name=conv2d, built=True>,\n",
       " <Dropout name=dropout, built=True>,\n",
       " <Conv2D name=conv2d_1, built=True>,\n",
       " <Dropout name=dropout_1, built=True>,\n",
       " <Flatten name=flatten, built=True>,\n",
       " <Dense name=dense_1, built=True>]"
      ]
     },
     "execution_count": 22,
     "metadata": {},
     "output_type": "execute_result"
    }
   ],
   "source": [
    "GAN.layers[1].layers # Discriminator model"
   ]
  },
  {
   "cell_type": "code",
   "execution_count": 23,
   "id": "a40a4ad0",
   "metadata": {
    "execution": {
     "iopub.execute_input": "2024-10-22T05:41:51.854731Z",
     "iopub.status.busy": "2024-10-22T05:41:51.854088Z",
     "iopub.status.idle": "2024-10-22T05:41:51.873251Z",
     "shell.execute_reply": "2024-10-22T05:41:51.872403Z"
    },
    "id": "4d496e7c-6b99-4b02-bece-5fb9a3eae75c",
    "outputId": "3215df53-b952-4ab6-c9ae-96dd7e78ba95",
    "papermill": {
     "duration": 0.0338,
     "end_time": "2024-10-22T05:41:51.875146",
     "exception": false,
     "start_time": "2024-10-22T05:41:51.841346",
     "status": "completed"
    },
    "tags": []
   },
   "outputs": [
    {
     "data": {
      "text/html": [
       "<pre style=\"white-space:pre;overflow-x:auto;line-height:normal;font-family:Menlo,'DejaVu Sans Mono',consolas,'Courier New',monospace\"><span style=\"font-weight: bold\">Model: \"sequential\"</span>\n",
       "</pre>\n"
      ],
      "text/plain": [
       "\u001b[1mModel: \"sequential\"\u001b[0m\n"
      ]
     },
     "metadata": {},
     "output_type": "display_data"
    },
    {
     "data": {
      "text/html": [
       "<pre style=\"white-space:pre;overflow-x:auto;line-height:normal;font-family:Menlo,'DejaVu Sans Mono',consolas,'Courier New',monospace\">┏━━━━━━━━━━━━━━━━━━━━━━━━━━━━━━━━━┳━━━━━━━━━━━━━━━━━━━━━━━━┳━━━━━━━━━━━━━━━┓\n",
       "┃<span style=\"font-weight: bold\"> Layer (type)                    </span>┃<span style=\"font-weight: bold\"> Output Shape           </span>┃<span style=\"font-weight: bold\">       Param # </span>┃\n",
       "┡━━━━━━━━━━━━━━━━━━━━━━━━━━━━━━━━━╇━━━━━━━━━━━━━━━━━━━━━━━━╇━━━━━━━━━━━━━━━┩\n",
       "│ dense (<span style=\"color: #0087ff; text-decoration-color: #0087ff\">Dense</span>)                   │ (<span style=\"color: #00d7ff; text-decoration-color: #00d7ff\">None</span>, <span style=\"color: #00af00; text-decoration-color: #00af00\">6272</span>)           │       <span style=\"color: #00af00; text-decoration-color: #00af00\">633,472</span> │\n",
       "├─────────────────────────────────┼────────────────────────┼───────────────┤\n",
       "│ reshape (<span style=\"color: #0087ff; text-decoration-color: #0087ff\">Reshape</span>)               │ (<span style=\"color: #00d7ff; text-decoration-color: #00d7ff\">None</span>, <span style=\"color: #00af00; text-decoration-color: #00af00\">7</span>, <span style=\"color: #00af00; text-decoration-color: #00af00\">7</span>, <span style=\"color: #00af00; text-decoration-color: #00af00\">128</span>)      │             <span style=\"color: #00af00; text-decoration-color: #00af00\">0</span> │\n",
       "├─────────────────────────────────┼────────────────────────┼───────────────┤\n",
       "│ batch_normalization             │ (<span style=\"color: #00d7ff; text-decoration-color: #00d7ff\">None</span>, <span style=\"color: #00af00; text-decoration-color: #00af00\">7</span>, <span style=\"color: #00af00; text-decoration-color: #00af00\">7</span>, <span style=\"color: #00af00; text-decoration-color: #00af00\">128</span>)      │           <span style=\"color: #00af00; text-decoration-color: #00af00\">512</span> │\n",
       "│ (<span style=\"color: #0087ff; text-decoration-color: #0087ff\">BatchNormalization</span>)            │                        │               │\n",
       "├─────────────────────────────────┼────────────────────────┼───────────────┤\n",
       "│ conv2d_transpose                │ (<span style=\"color: #00d7ff; text-decoration-color: #00d7ff\">None</span>, <span style=\"color: #00af00; text-decoration-color: #00af00\">14</span>, <span style=\"color: #00af00; text-decoration-color: #00af00\">14</span>, <span style=\"color: #00af00; text-decoration-color: #00af00\">64</span>)     │       <span style=\"color: #00af00; text-decoration-color: #00af00\">204,864</span> │\n",
       "│ (<span style=\"color: #0087ff; text-decoration-color: #0087ff\">Conv2DTranspose</span>)               │                        │               │\n",
       "├─────────────────────────────────┼────────────────────────┼───────────────┤\n",
       "│ batch_normalization_1           │ (<span style=\"color: #00d7ff; text-decoration-color: #00d7ff\">None</span>, <span style=\"color: #00af00; text-decoration-color: #00af00\">14</span>, <span style=\"color: #00af00; text-decoration-color: #00af00\">14</span>, <span style=\"color: #00af00; text-decoration-color: #00af00\">64</span>)     │           <span style=\"color: #00af00; text-decoration-color: #00af00\">256</span> │\n",
       "│ (<span style=\"color: #0087ff; text-decoration-color: #0087ff\">BatchNormalization</span>)            │                        │               │\n",
       "├─────────────────────────────────┼────────────────────────┼───────────────┤\n",
       "│ conv2d_transpose_1              │ (<span style=\"color: #00d7ff; text-decoration-color: #00d7ff\">None</span>, <span style=\"color: #00af00; text-decoration-color: #00af00\">28</span>, <span style=\"color: #00af00; text-decoration-color: #00af00\">28</span>, <span style=\"color: #00af00; text-decoration-color: #00af00\">1</span>)      │         <span style=\"color: #00af00; text-decoration-color: #00af00\">1,601</span> │\n",
       "│ (<span style=\"color: #0087ff; text-decoration-color: #0087ff\">Conv2DTranspose</span>)               │                        │               │\n",
       "└─────────────────────────────────┴────────────────────────┴───────────────┘\n",
       "</pre>\n"
      ],
      "text/plain": [
       "┏━━━━━━━━━━━━━━━━━━━━━━━━━━━━━━━━━┳━━━━━━━━━━━━━━━━━━━━━━━━┳━━━━━━━━━━━━━━━┓\n",
       "┃\u001b[1m \u001b[0m\u001b[1mLayer (type)                   \u001b[0m\u001b[1m \u001b[0m┃\u001b[1m \u001b[0m\u001b[1mOutput Shape          \u001b[0m\u001b[1m \u001b[0m┃\u001b[1m \u001b[0m\u001b[1m      Param #\u001b[0m\u001b[1m \u001b[0m┃\n",
       "┡━━━━━━━━━━━━━━━━━━━━━━━━━━━━━━━━━╇━━━━━━━━━━━━━━━━━━━━━━━━╇━━━━━━━━━━━━━━━┩\n",
       "│ dense (\u001b[38;5;33mDense\u001b[0m)                   │ (\u001b[38;5;45mNone\u001b[0m, \u001b[38;5;34m6272\u001b[0m)           │       \u001b[38;5;34m633,472\u001b[0m │\n",
       "├─────────────────────────────────┼────────────────────────┼───────────────┤\n",
       "│ reshape (\u001b[38;5;33mReshape\u001b[0m)               │ (\u001b[38;5;45mNone\u001b[0m, \u001b[38;5;34m7\u001b[0m, \u001b[38;5;34m7\u001b[0m, \u001b[38;5;34m128\u001b[0m)      │             \u001b[38;5;34m0\u001b[0m │\n",
       "├─────────────────────────────────┼────────────────────────┼───────────────┤\n",
       "│ batch_normalization             │ (\u001b[38;5;45mNone\u001b[0m, \u001b[38;5;34m7\u001b[0m, \u001b[38;5;34m7\u001b[0m, \u001b[38;5;34m128\u001b[0m)      │           \u001b[38;5;34m512\u001b[0m │\n",
       "│ (\u001b[38;5;33mBatchNormalization\u001b[0m)            │                        │               │\n",
       "├─────────────────────────────────┼────────────────────────┼───────────────┤\n",
       "│ conv2d_transpose                │ (\u001b[38;5;45mNone\u001b[0m, \u001b[38;5;34m14\u001b[0m, \u001b[38;5;34m14\u001b[0m, \u001b[38;5;34m64\u001b[0m)     │       \u001b[38;5;34m204,864\u001b[0m │\n",
       "│ (\u001b[38;5;33mConv2DTranspose\u001b[0m)               │                        │               │\n",
       "├─────────────────────────────────┼────────────────────────┼───────────────┤\n",
       "│ batch_normalization_1           │ (\u001b[38;5;45mNone\u001b[0m, \u001b[38;5;34m14\u001b[0m, \u001b[38;5;34m14\u001b[0m, \u001b[38;5;34m64\u001b[0m)     │           \u001b[38;5;34m256\u001b[0m │\n",
       "│ (\u001b[38;5;33mBatchNormalization\u001b[0m)            │                        │               │\n",
       "├─────────────────────────────────┼────────────────────────┼───────────────┤\n",
       "│ conv2d_transpose_1              │ (\u001b[38;5;45mNone\u001b[0m, \u001b[38;5;34m28\u001b[0m, \u001b[38;5;34m28\u001b[0m, \u001b[38;5;34m1\u001b[0m)      │         \u001b[38;5;34m1,601\u001b[0m │\n",
       "│ (\u001b[38;5;33mConv2DTranspose\u001b[0m)               │                        │               │\n",
       "└─────────────────────────────────┴────────────────────────┴───────────────┘\n"
      ]
     },
     "metadata": {},
     "output_type": "display_data"
    },
    {
     "data": {
      "text/html": [
       "<pre style=\"white-space:pre;overflow-x:auto;line-height:normal;font-family:Menlo,'DejaVu Sans Mono',consolas,'Courier New',monospace\"><span style=\"font-weight: bold\"> Total params: </span><span style=\"color: #00af00; text-decoration-color: #00af00\">840,705</span> (3.21 MB)\n",
       "</pre>\n"
      ],
      "text/plain": [
       "\u001b[1m Total params: \u001b[0m\u001b[38;5;34m840,705\u001b[0m (3.21 MB)\n"
      ]
     },
     "metadata": {},
     "output_type": "display_data"
    },
    {
     "data": {
      "text/html": [
       "<pre style=\"white-space:pre;overflow-x:auto;line-height:normal;font-family:Menlo,'DejaVu Sans Mono',consolas,'Courier New',monospace\"><span style=\"font-weight: bold\"> Trainable params: </span><span style=\"color: #00af00; text-decoration-color: #00af00\">840,321</span> (3.21 MB)\n",
       "</pre>\n"
      ],
      "text/plain": [
       "\u001b[1m Trainable params: \u001b[0m\u001b[38;5;34m840,321\u001b[0m (3.21 MB)\n"
      ]
     },
     "metadata": {},
     "output_type": "display_data"
    },
    {
     "data": {
      "text/html": [
       "<pre style=\"white-space:pre;overflow-x:auto;line-height:normal;font-family:Menlo,'DejaVu Sans Mono',consolas,'Courier New',monospace\"><span style=\"font-weight: bold\"> Non-trainable params: </span><span style=\"color: #00af00; text-decoration-color: #00af00\">384</span> (1.50 KB)\n",
       "</pre>\n"
      ],
      "text/plain": [
       "\u001b[1m Non-trainable params: \u001b[0m\u001b[38;5;34m384\u001b[0m (1.50 KB)\n"
      ]
     },
     "metadata": {},
     "output_type": "display_data"
    }
   ],
   "source": [
    "GAN.layers[0].summary() # Generator model"
   ]
  },
  {
   "cell_type": "code",
   "execution_count": 24,
   "id": "a0dc6516",
   "metadata": {
    "execution": {
     "iopub.execute_input": "2024-10-22T05:41:51.902017Z",
     "iopub.status.busy": "2024-10-22T05:41:51.901737Z",
     "iopub.status.idle": "2024-10-22T05:41:51.920054Z",
     "shell.execute_reply": "2024-10-22T05:41:51.919241Z"
    },
    "id": "0aa1a5a5-a9c7-4f9f-8111-eacc0e51e8bb",
    "outputId": "d93d3f2a-b5fc-4e39-c306-cb9e23b0cee2",
    "papermill": {
     "duration": 0.033803,
     "end_time": "2024-10-22T05:41:51.921900",
     "exception": false,
     "start_time": "2024-10-22T05:41:51.888097",
     "status": "completed"
    },
    "tags": []
   },
   "outputs": [
    {
     "data": {
      "text/html": [
       "<pre style=\"white-space:pre;overflow-x:auto;line-height:normal;font-family:Menlo,'DejaVu Sans Mono',consolas,'Courier New',monospace\"><span style=\"font-weight: bold\">Model: \"sequential_1\"</span>\n",
       "</pre>\n"
      ],
      "text/plain": [
       "\u001b[1mModel: \"sequential_1\"\u001b[0m\n"
      ]
     },
     "metadata": {},
     "output_type": "display_data"
    },
    {
     "data": {
      "text/html": [
       "<pre style=\"white-space:pre;overflow-x:auto;line-height:normal;font-family:Menlo,'DejaVu Sans Mono',consolas,'Courier New',monospace\">┏━━━━━━━━━━━━━━━━━━━━━━━━━━━━━━━━━┳━━━━━━━━━━━━━━━━━━━━━━━━┳━━━━━━━━━━━━━━━┓\n",
       "┃<span style=\"font-weight: bold\"> Layer (type)                    </span>┃<span style=\"font-weight: bold\"> Output Shape           </span>┃<span style=\"font-weight: bold\">       Param # </span>┃\n",
       "┡━━━━━━━━━━━━━━━━━━━━━━━━━━━━━━━━━╇━━━━━━━━━━━━━━━━━━━━━━━━╇━━━━━━━━━━━━━━━┩\n",
       "│ conv2d (<span style=\"color: #0087ff; text-decoration-color: #0087ff\">Conv2D</span>)                 │ (<span style=\"color: #00d7ff; text-decoration-color: #00d7ff\">None</span>, <span style=\"color: #00af00; text-decoration-color: #00af00\">14</span>, <span style=\"color: #00af00; text-decoration-color: #00af00\">14</span>, <span style=\"color: #00af00; text-decoration-color: #00af00\">64</span>)     │         <span style=\"color: #00af00; text-decoration-color: #00af00\">1,664</span> │\n",
       "├─────────────────────────────────┼────────────────────────┼───────────────┤\n",
       "│ dropout (<span style=\"color: #0087ff; text-decoration-color: #0087ff\">Dropout</span>)               │ (<span style=\"color: #00d7ff; text-decoration-color: #00d7ff\">None</span>, <span style=\"color: #00af00; text-decoration-color: #00af00\">14</span>, <span style=\"color: #00af00; text-decoration-color: #00af00\">14</span>, <span style=\"color: #00af00; text-decoration-color: #00af00\">64</span>)     │             <span style=\"color: #00af00; text-decoration-color: #00af00\">0</span> │\n",
       "├─────────────────────────────────┼────────────────────────┼───────────────┤\n",
       "│ conv2d_1 (<span style=\"color: #0087ff; text-decoration-color: #0087ff\">Conv2D</span>)               │ (<span style=\"color: #00d7ff; text-decoration-color: #00d7ff\">None</span>, <span style=\"color: #00af00; text-decoration-color: #00af00\">7</span>, <span style=\"color: #00af00; text-decoration-color: #00af00\">7</span>, <span style=\"color: #00af00; text-decoration-color: #00af00\">128</span>)      │       <span style=\"color: #00af00; text-decoration-color: #00af00\">204,928</span> │\n",
       "├─────────────────────────────────┼────────────────────────┼───────────────┤\n",
       "│ dropout_1 (<span style=\"color: #0087ff; text-decoration-color: #0087ff\">Dropout</span>)             │ (<span style=\"color: #00d7ff; text-decoration-color: #00d7ff\">None</span>, <span style=\"color: #00af00; text-decoration-color: #00af00\">7</span>, <span style=\"color: #00af00; text-decoration-color: #00af00\">7</span>, <span style=\"color: #00af00; text-decoration-color: #00af00\">128</span>)      │             <span style=\"color: #00af00; text-decoration-color: #00af00\">0</span> │\n",
       "├─────────────────────────────────┼────────────────────────┼───────────────┤\n",
       "│ flatten (<span style=\"color: #0087ff; text-decoration-color: #0087ff\">Flatten</span>)               │ (<span style=\"color: #00d7ff; text-decoration-color: #00d7ff\">None</span>, <span style=\"color: #00af00; text-decoration-color: #00af00\">6272</span>)           │             <span style=\"color: #00af00; text-decoration-color: #00af00\">0</span> │\n",
       "├─────────────────────────────────┼────────────────────────┼───────────────┤\n",
       "│ dense_1 (<span style=\"color: #0087ff; text-decoration-color: #0087ff\">Dense</span>)                 │ (<span style=\"color: #00d7ff; text-decoration-color: #00d7ff\">None</span>, <span style=\"color: #00af00; text-decoration-color: #00af00\">1</span>)              │         <span style=\"color: #00af00; text-decoration-color: #00af00\">6,273</span> │\n",
       "└─────────────────────────────────┴────────────────────────┴───────────────┘\n",
       "</pre>\n"
      ],
      "text/plain": [
       "┏━━━━━━━━━━━━━━━━━━━━━━━━━━━━━━━━━┳━━━━━━━━━━━━━━━━━━━━━━━━┳━━━━━━━━━━━━━━━┓\n",
       "┃\u001b[1m \u001b[0m\u001b[1mLayer (type)                   \u001b[0m\u001b[1m \u001b[0m┃\u001b[1m \u001b[0m\u001b[1mOutput Shape          \u001b[0m\u001b[1m \u001b[0m┃\u001b[1m \u001b[0m\u001b[1m      Param #\u001b[0m\u001b[1m \u001b[0m┃\n",
       "┡━━━━━━━━━━━━━━━━━━━━━━━━━━━━━━━━━╇━━━━━━━━━━━━━━━━━━━━━━━━╇━━━━━━━━━━━━━━━┩\n",
       "│ conv2d (\u001b[38;5;33mConv2D\u001b[0m)                 │ (\u001b[38;5;45mNone\u001b[0m, \u001b[38;5;34m14\u001b[0m, \u001b[38;5;34m14\u001b[0m, \u001b[38;5;34m64\u001b[0m)     │         \u001b[38;5;34m1,664\u001b[0m │\n",
       "├─────────────────────────────────┼────────────────────────┼───────────────┤\n",
       "│ dropout (\u001b[38;5;33mDropout\u001b[0m)               │ (\u001b[38;5;45mNone\u001b[0m, \u001b[38;5;34m14\u001b[0m, \u001b[38;5;34m14\u001b[0m, \u001b[38;5;34m64\u001b[0m)     │             \u001b[38;5;34m0\u001b[0m │\n",
       "├─────────────────────────────────┼────────────────────────┼───────────────┤\n",
       "│ conv2d_1 (\u001b[38;5;33mConv2D\u001b[0m)               │ (\u001b[38;5;45mNone\u001b[0m, \u001b[38;5;34m7\u001b[0m, \u001b[38;5;34m7\u001b[0m, \u001b[38;5;34m128\u001b[0m)      │       \u001b[38;5;34m204,928\u001b[0m │\n",
       "├─────────────────────────────────┼────────────────────────┼───────────────┤\n",
       "│ dropout_1 (\u001b[38;5;33mDropout\u001b[0m)             │ (\u001b[38;5;45mNone\u001b[0m, \u001b[38;5;34m7\u001b[0m, \u001b[38;5;34m7\u001b[0m, \u001b[38;5;34m128\u001b[0m)      │             \u001b[38;5;34m0\u001b[0m │\n",
       "├─────────────────────────────────┼────────────────────────┼───────────────┤\n",
       "│ flatten (\u001b[38;5;33mFlatten\u001b[0m)               │ (\u001b[38;5;45mNone\u001b[0m, \u001b[38;5;34m6272\u001b[0m)           │             \u001b[38;5;34m0\u001b[0m │\n",
       "├─────────────────────────────────┼────────────────────────┼───────────────┤\n",
       "│ dense_1 (\u001b[38;5;33mDense\u001b[0m)                 │ (\u001b[38;5;45mNone\u001b[0m, \u001b[38;5;34m1\u001b[0m)              │         \u001b[38;5;34m6,273\u001b[0m │\n",
       "└─────────────────────────────────┴────────────────────────┴───────────────┘\n"
      ]
     },
     "metadata": {},
     "output_type": "display_data"
    },
    {
     "data": {
      "text/html": [
       "<pre style=\"white-space:pre;overflow-x:auto;line-height:normal;font-family:Menlo,'DejaVu Sans Mono',consolas,'Courier New',monospace\"><span style=\"font-weight: bold\"> Total params: </span><span style=\"color: #00af00; text-decoration-color: #00af00\">212,865</span> (831.50 KB)\n",
       "</pre>\n"
      ],
      "text/plain": [
       "\u001b[1m Total params: \u001b[0m\u001b[38;5;34m212,865\u001b[0m (831.50 KB)\n"
      ]
     },
     "metadata": {},
     "output_type": "display_data"
    },
    {
     "data": {
      "text/html": [
       "<pre style=\"white-space:pre;overflow-x:auto;line-height:normal;font-family:Menlo,'DejaVu Sans Mono',consolas,'Courier New',monospace\"><span style=\"font-weight: bold\"> Trainable params: </span><span style=\"color: #00af00; text-decoration-color: #00af00\">0</span> (0.00 B)\n",
       "</pre>\n"
      ],
      "text/plain": [
       "\u001b[1m Trainable params: \u001b[0m\u001b[38;5;34m0\u001b[0m (0.00 B)\n"
      ]
     },
     "metadata": {},
     "output_type": "display_data"
    },
    {
     "data": {
      "text/html": [
       "<pre style=\"white-space:pre;overflow-x:auto;line-height:normal;font-family:Menlo,'DejaVu Sans Mono',consolas,'Courier New',monospace\"><span style=\"font-weight: bold\"> Non-trainable params: </span><span style=\"color: #00af00; text-decoration-color: #00af00\">212,865</span> (831.50 KB)\n",
       "</pre>\n"
      ],
      "text/plain": [
       "\u001b[1m Non-trainable params: \u001b[0m\u001b[38;5;34m212,865\u001b[0m (831.50 KB)\n"
      ]
     },
     "metadata": {},
     "output_type": "display_data"
    }
   ],
   "source": [
    "GAN.layers[1].summary() # Discriminator model"
   ]
  },
  {
   "cell_type": "code",
   "execution_count": 25,
   "id": "1026835f",
   "metadata": {
    "execution": {
     "iopub.execute_input": "2024-10-22T05:41:51.950130Z",
     "iopub.status.busy": "2024-10-22T05:41:51.949834Z",
     "iopub.status.idle": "2024-10-22T06:17:42.136134Z",
     "shell.execute_reply": "2024-10-22T06:17:42.135158Z"
    },
    "id": "69f4b280-9ee4-4ff7-bba6-c6c3f0f6dfb0",
    "outputId": "3b4c456b-f2d1-4e40-9e6e-8326f4a1c95d",
    "papermill": {
     "duration": 2150.203506,
     "end_time": "2024-10-22T06:17:42.139020",
     "exception": false,
     "start_time": "2024-10-22T05:41:51.935514",
     "status": "completed"
    },
    "tags": []
   },
   "outputs": [
    {
     "name": "stdout",
     "output_type": "stream",
     "text": [
      "Currently on epoch 1\n"
     ]
    },
    {
     "name": "stderr",
     "output_type": "stream",
     "text": [
      "WARNING: All log messages before absl::InitializeLog() is called are written to STDERR\n",
      "I0000 00:00:1729575713.844901      71 service.cc:145] XLA service 0x7b2d50004450 initialized for platform CUDA (this does not guarantee that XLA will be used). Devices:\n",
      "I0000 00:00:1729575713.844945      71 service.cc:153]   StreamExecutor device (0): Tesla T4, Compute Capability 7.5\n",
      "I0000 00:00:1729575713.844949      71 service.cc:153]   StreamExecutor device (1): Tesla T4, Compute Capability 7.5\n",
      "I0000 00:00:1729575717.600723      71 device_compiler.h:188] Compiled cluster using XLA!  This line is logged at most once for the lifetime of the process.\n"
     ]
    },
    {
     "name": "stdout",
     "output_type": "stream",
     "text": [
      "Currently on batch number 50 of 182\n",
      "Currently on batch number 100 of 182\n",
      "Currently on batch number 150 of 182\n",
      "Currently on epoch 2\n",
      "Currently on batch number 50 of 182\n",
      "Currently on batch number 100 of 182\n",
      "Currently on batch number 150 of 182\n",
      "Currently on epoch 3\n",
      "Currently on batch number 50 of 182\n",
      "Currently on batch number 100 of 182\n",
      "Currently on batch number 150 of 182\n",
      "Currently on epoch 4\n",
      "Currently on batch number 50 of 182\n",
      "Currently on batch number 100 of 182\n",
      "Currently on batch number 150 of 182\n",
      "Currently on epoch 5\n",
      "Currently on batch number 50 of 182\n",
      "Currently on batch number 100 of 182\n",
      "Currently on batch number 150 of 182\n",
      "Currently on epoch 6\n",
      "Currently on batch number 50 of 182\n",
      "Currently on batch number 100 of 182\n",
      "Currently on batch number 150 of 182\n",
      "Currently on epoch 7\n",
      "Currently on batch number 50 of 182\n",
      "Currently on batch number 100 of 182\n",
      "Currently on batch number 150 of 182\n",
      "Currently on epoch 8\n",
      "Currently on batch number 50 of 182\n",
      "Currently on batch number 100 of 182\n",
      "Currently on batch number 150 of 182\n",
      "Currently on epoch 9\n",
      "Currently on batch number 50 of 182\n",
      "Currently on batch number 100 of 182\n",
      "Currently on batch number 150 of 182\n",
      "Currently on epoch 10\n",
      "Currently on batch number 50 of 182\n",
      "Currently on batch number 100 of 182\n",
      "Currently on batch number 150 of 182\n",
      "Currently on epoch 11\n",
      "Currently on batch number 50 of 182\n",
      "Currently on batch number 100 of 182\n",
      "Currently on batch number 150 of 182\n",
      "Currently on epoch 12\n",
      "Currently on batch number 50 of 182\n",
      "Currently on batch number 100 of 182\n",
      "Currently on batch number 150 of 182\n",
      "Currently on epoch 13\n",
      "Currently on batch number 50 of 182\n",
      "Currently on batch number 100 of 182\n",
      "Currently on batch number 150 of 182\n",
      "Currently on epoch 14\n",
      "Currently on batch number 50 of 182\n",
      "Currently on batch number 100 of 182\n",
      "Currently on batch number 150 of 182\n",
      "Currently on epoch 15\n",
      "Currently on batch number 50 of 182\n",
      "Currently on batch number 100 of 182\n",
      "Currently on batch number 150 of 182\n",
      "Currently on epoch 16\n",
      "Currently on batch number 50 of 182\n",
      "Currently on batch number 100 of 182\n",
      "Currently on batch number 150 of 182\n"
     ]
    }
   ],
   "source": [
    "generator, discriminator = GAN.layers\n",
    "\n",
    "\n",
    "\n",
    "for i in range(epochs):\n",
    "\n",
    "    print(f\"Currently on epoch {i+1}\")\n",
    "\n",
    "    cnt = 0\n",
    "\n",
    "\n",
    "\n",
    "    for batch in dataset:\n",
    "\n",
    "        cnt += 1\n",
    "\n",
    "\n",
    "\n",
    "        if cnt % 50 == 0:\n",
    "\n",
    "            print(f\"Currently on batch number {cnt} of {len(only_eights)//batch_size}\")\n",
    "\n",
    "\n",
    "\n",
    "        # Discriminator Training Phase\n",
    "\n",
    "        noise = tf.random.normal([batch_size,codings_size])\n",
    "\n",
    "        generated_images = generator(noise)\n",
    "\n",
    "        X_fake_or_real = tf.concat([generated_images,tf.dtypes.cast(batch,tf.float32)],axis=0)\n",
    "\n",
    "        y1 = tf.constant([[0.0]]*batch_size + [[1.0]]*batch_size)\n",
    "\n",
    "        discriminator.trainable = True\n",
    "\n",
    "        discriminator.train_on_batch(X_fake_or_real,y1)\n",
    "\n",
    "\n",
    "\n",
    "        # Generator Training Phase\n",
    "\n",
    "        noise = tf.random.normal([batch_size,codings_size])\n",
    "\n",
    "        y2 = tf.constant([[1.0]]*batch_size) # This is because during generator training phase, we want the discriminator to believe that all images are real\n",
    "\n",
    "        discriminator.trainable = False\n",
    "\n",
    "        GAN.train_on_batch(noise,y2)"
   ]
  },
  {
   "cell_type": "code",
   "execution_count": 26,
   "id": "f5adb6aa",
   "metadata": {
    "execution": {
     "iopub.execute_input": "2024-10-22T06:17:42.183649Z",
     "iopub.status.busy": "2024-10-22T06:17:42.182814Z",
     "iopub.status.idle": "2024-10-22T06:17:42.193505Z",
     "shell.execute_reply": "2024-10-22T06:17:42.192479Z"
    },
    "id": "016c3b82-f1bd-41fd-a396-a548257a7f14",
    "papermill": {
     "duration": 0.032523,
     "end_time": "2024-10-22T06:17:42.195542",
     "exception": false,
     "start_time": "2024-10-22T06:17:42.163019",
     "status": "completed"
    },
    "tags": []
   },
   "outputs": [
    {
     "data": {
      "text/plain": [
       "<tf.Tensor: shape=(25, 100), dtype=float32, numpy=\n",
       "array([[-0.40865913,  0.44354647,  0.9282068 , ..., -0.54818827,\n",
       "        -0.56015706, -0.03947818],\n",
       "       [-0.28240526,  0.11201911,  0.06736709, ..., -0.3463348 ,\n",
       "        -0.27944535,  0.03415733],\n",
       "       [ 1.4101707 ,  0.1465404 ,  0.85635245, ...,  0.12685382,\n",
       "         0.7075477 , -1.3816402 ],\n",
       "       ...,\n",
       "       [-0.03546182, -0.0315    , -0.4692438 , ..., -1.0563817 ,\n",
       "         1.5564253 , -0.8727594 ],\n",
       "       [-1.3161707 , -0.938479  ,  1.3055367 , ..., -0.8644371 ,\n",
       "         1.3266212 , -0.4453796 ],\n",
       "       [-0.71772987,  1.1822628 ,  0.55732214, ..., -1.0385319 ,\n",
       "        -0.15866233,  0.46159622]], dtype=float32)>"
      ]
     },
     "execution_count": 26,
     "metadata": {},
     "output_type": "execute_result"
    }
   ],
   "source": [
    "noise = tf.random.normal([25,codings_size])\n",
    "\n",
    "noise"
   ]
  },
  {
   "cell_type": "code",
   "execution_count": 27,
   "id": "61b7e440",
   "metadata": {
    "execution": {
     "iopub.execute_input": "2024-10-22T06:17:42.235323Z",
     "iopub.status.busy": "2024-10-22T06:17:42.234651Z",
     "iopub.status.idle": "2024-10-22T06:17:42.454675Z",
     "shell.execute_reply": "2024-10-22T06:17:42.453626Z"
    },
    "id": "2d5480c3-b6fb-4464-8769-b02b65e7d1b2",
    "papermill": {
     "duration": 0.242196,
     "end_time": "2024-10-22T06:17:42.456705",
     "exception": false,
     "start_time": "2024-10-22T06:17:42.214509",
     "status": "completed"
    },
    "tags": []
   },
   "outputs": [
    {
     "data": {
      "image/png": "[encoded data removed]",
      "text/plain": [
       "<Figure size 640x480 with 1 Axes>"
      ]
     },
     "metadata": {},
     "output_type": "display_data"
    }
   ],
   "source": [
    "plt.imshow(noise);"
   ]
  },
  {
   "cell_type": "code",
   "execution_count": 28,
   "id": "2686024a",
   "metadata": {
    "execution": {
     "iopub.execute_input": "2024-10-22T06:17:42.498189Z",
     "iopub.status.busy": "2024-10-22T06:17:42.497884Z",
     "iopub.status.idle": "2024-10-22T06:17:42.562828Z",
     "shell.execute_reply": "2024-10-22T06:17:42.562027Z"
    },
    "id": "5a9675c2-d181-40fb-a10f-e41087ec741c",
    "papermill": {
     "duration": 0.086805,
     "end_time": "2024-10-22T06:17:42.564698",
     "exception": false,
     "start_time": "2024-10-22T06:17:42.477893",
     "status": "completed"
    },
    "tags": []
   },
   "outputs": [
    {
     "data": {
      "text/plain": [
       "TensorShape([25, 28, 28, 1])"
      ]
     },
     "execution_count": 28,
     "metadata": {},
     "output_type": "execute_result"
    }
   ],
   "source": [
    "images = generator(noise)\n",
    "\n",
    "images.shape"
   ]
  },
  {
   "cell_type": "code",
   "execution_count": 29,
   "id": "d5a37d4d",
   "metadata": {
    "execution": {
     "iopub.execute_input": "2024-10-22T06:17:42.604385Z",
     "iopub.status.busy": "2024-10-22T06:17:42.604117Z",
     "iopub.status.idle": "2024-10-22T06:17:42.847780Z",
     "shell.execute_reply": "2024-10-22T06:17:42.846870Z"
    },
    "id": "a2bf2134-71d4-4e42-85b8-f8d7635d29bf",
    "papermill": {
     "duration": 0.26588,
     "end_time": "2024-10-22T06:17:42.849781",
     "exception": false,
     "start_time": "2024-10-22T06:17:42.583901",
     "status": "completed"
    },
    "tags": []
   },
   "outputs": [
    {
     "data": {
      "image/png": "[encoded data removed]",
      "text/plain": [
       "<Figure size 640x480 with 1 Axes>"
      ]
     },
     "metadata": {},
     "output_type": "display_data"
    }
   ],
   "source": [
    "plt.imshow(images[0]);"
   ]
  },
  {
   "cell_type": "code",
   "execution_count": 30,
   "id": "0f5d7c19",
   "metadata": {
    "execution": {
     "iopub.execute_input": "2024-10-22T06:17:42.889852Z",
     "iopub.status.busy": "2024-10-22T06:17:42.889567Z",
     "iopub.status.idle": "2024-10-22T06:17:43.122765Z",
     "shell.execute_reply": "2024-10-22T06:17:43.121870Z"
    },
    "id": "e3201972-1a46-4cf7-8450-e43421154322",
    "papermill": {
     "duration": 0.255305,
     "end_time": "2024-10-22T06:17:43.124649",
     "exception": false,
     "start_time": "2024-10-22T06:17:42.869344",
     "status": "completed"
    },
    "tags": []
   },
   "outputs": [
    {
     "data": {
      "image/png": "[encoded data removed]",
      "text/plain": [
       "<Figure size 640x480 with 1 Axes>"
      ]
     },
     "metadata": {},
     "output_type": "display_data"
    }
   ],
   "source": [
    "plt.imshow(images[5]);"
   ]
  }
 ],
 "metadata": {
  "accelerator": "GPU",
  "colab": {
   "gpuType": "T4",
   "provenance": []
  },
  "kaggle": {
   "accelerator": "nvidiaTeslaT4",
   "dataSources": [],
   "dockerImageVersionId": 30787,
   "isGpuEnabled": true,
   "isInternetEnabled": true,
   "language": "python",
   "sourceType": "notebook"
  },
  "kernelspec": {
   "display_name": "Python 3",
   "language": "python",
   "name": "python3"
  },
  "language_info": {
   "codemirror_mode": {
    "name": "ipython",
    "version": 3
   },
   "file_extension": ".py",
   "mimetype": "text/x-python",
   "name": "python",
   "nbconvert_exporter": "python",
   "pygments_lexer": "ipython3",
   "version": "3.10.14"
  },
  "papermill": {
   "default_parameters": {},
   "duration": 2175.444067,
   "end_time": "2024-10-22T06:17:47.420161",
   "environment_variables": {},
   "exception": null,
   "input_path": "__notebook__.ipynb",
   "output_path": "__notebook__.ipynb",
   "parameters": {},
   "start_time": "2024-10-22T05:41:31.976094",
   "version": "2.6.0"
  }
 },
 "nbformat": 4,
 "nbformat_minor": 5
}
